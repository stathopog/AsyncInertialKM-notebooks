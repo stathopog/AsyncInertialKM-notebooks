{
 "cells": [
  {
   "cell_type": "markdown",
   "metadata": {
    "collapsed": true
   },
   "source": [
    "$\\Large{\\textbf{Minimum Variance Log-Optimal Investment}}$"
   ]
  },
  {
   "cell_type": "markdown",
   "metadata": {},
   "source": [
    "Investment strategies are allowed to use information collected from the past of the market and determine,\n",
    "at the beginning of a trading period, a portfolio, namely a way to distribute their current capital among\n",
    "the available assets. The goal of the investor is to maximize his wealth on the long run without knowing the\n",
    "underlying distribution generating the stock prices. Since accurate statistical modeling of stock market\n",
    "behavior has been known as a notoriously difficult problem, we take an extreme point of view and work with\n",
    "minimal assumptions on the distribution of the time series. In fact, the only assumption that we use in our\n",
    "mathematical analysis is that the daily price relatives form a stationary and ergodic process. Under this\n",
    "assumption the asymptotic rate of growth has a well-defined maximum which can be achieved in full knowledge\n",
    "of the distribution of the entire process. The fundamental limits reveal that the so-called $\\textit{log-optimal\n",
    "    portfolio}$ is the best possible choice. \n",
    "$\\textit{Reference: http://www.szit.bme.hu/~oti/portfolio/}$"
   ]
  },
  {
   "cell_type": "markdown",
   "metadata": {},
   "source": [
    "$\\textbf{Problem formulation}$\n",
    "\n",
    "The log-optimal investment strategy is detailed in $[\\textit{Boyd-Vandenberghe, Convex Optimization, Ex.4.60}]$, where\n",
    "$n$ assets are held over $N$ time periods. The total wealth is re-invested at the beginning of each time period with a\n",
    "fixed, constant allocation strategy $x\\in\\mathbb{R}^n$, with $x\\succeq 0$ and $\\mathbf{1}^\\top x=1$. The return after \n",
    "each period $t$ is denoted with $\\lambda(t)$. At the end of the $N$ periods our wealth has been multiplied by the factor $\\Pi_{t=1}^N\\lambda(t)$. The quantity\n",
    "\\begin{equation*}\n",
    " \\frac{1}{N}\\sum_{t=1}^N\\mathrm{log}\\lambda(t)\n",
    "\\end{equation*}\n",
    "is called the $\\textit{growth rate}$ of the investment over the $N$ periods.\n",
    "\n",
    "We assume that the distribution of the returns is unknown and we only have certain realizations available. We assume that over each period there are $m$ possible scenarios with probabilities $\\pi_j, \\; j=1,\\ldots,m$. In scenario $j$, the return for asset $i$ over one period is given by $p_{ij}$. Therefore, the return $\\lambda(t)$ of our portfolio during period $t$ is a random variable, with $m$ possible values $p_1^\\top x,\\ldots p_m^\\top x$, and distribution\n",
    "\\begin{equation*}\n",
    " \\pi_j = \\mathbb{P}[\\lambda(t)=p_j^\\top x], \\; j=1,\\ldots,m.\n",
    "\\end{equation*}\n",
    "\n",
    "Using the law of large numbers, it can be shown that the long term growth rate is given by\n",
    "\\begin{equation*}\n",
    " R = \\sum_{j=1}^m\\pi_j\\mathrm{log}(p_j^\\top x).\n",
    "\\end{equation*}\n",
    "\n",
    "One might also want to minimize the variance of the portfolio. Since the scenarios are the same in each period, the sample covariance matrix is given by\n",
    "\\begin{equation*}\n",
    " \\Sigma = \\frac{1}{m-1}(P-\\bar{p}\\mathbf{1}^\\top)(P-\\bar{p}\\mathbf{1}^\\top)^\\top,\n",
    "\\end{equation*}\n",
    "where $P=\\begin{bmatrix}p_1&p_2& \\ldots &p_m\\end{bmatrix}$ and $\\bar{p}$ is the sample mean of the returns.\n",
    "\n",
    "Finally, the optimization problem reads\n",
    "\\begin{equation}\n",
    "\\begin{array}{ll}\n",
    "  \\mbox{minimize} & x^\\top\\Sigma x - \\sum_{j=1}^m\\pi_j\\mathrm{log}(p_j^\\top x)\\\\\n",
    "  \\mbox{subject to} & x\\succeq 0, \\; \\mathbf{1}^\\top x=1 \\enspace.\n",
    "\\end{array}\n",
    "\\end{equation}"
   ]
  },
  {
   "cell_type": "code",
   "execution_count": 1,
   "metadata": {
    "collapsed": false
   },
   "outputs": [
    {
     "name": "stderr",
     "output_type": "stream",
     "text": [
      "WARNING: New definition \n",
      "    push!(DataStructures.Accumulator{#T<:Any, #V<:Number}, #T<:Any) at /Users/georgios/.julia/v0.4/DataStructures/src/accumulator.jl:54\n",
      "is ambiguous with: \n",
      "    push!(Base.Associative, Base.Pair) at dict.jl:294.\n",
      "To fix, define \n",
      "    push!(DataStructures.Accumulator{K<:Any, #V<:Number}, _<:Base.Pair)\n",
      "before the new definition.\n"
     ]
    }
   ],
   "source": [
    "## Load packages and solvers\n",
    "\n",
    "using Convex\n",
    "using Plots\n",
    "using ECOS\n",
    "using Distributions\n",
    "\n",
    "# Solver used\n",
    "solver = ECOSSolver(verbose=false, maxit=10000)\n",
    "\n",
    "type Agent\n",
    "    scenaria::Int16\n",
    "    returns::Array{Float64, 2}\n",
    "    probs::Array{Float64, 1}\n",
    "    times::Array{Float64, 2}\n",
    "end\n"
   ]
  },
  {
   "cell_type": "markdown",
   "metadata": {},
   "source": [
    "$\\textbf{Problem data}$\n",
    "\n",
    "The purpose is to solve the problem by assigning scenarios to several processors that execute their operations in parallel, in a continuous and asynchronous manner. \n",
    "\n",
    "Consider the following problem instance:\n",
    "* $m$ = 200 scenarios\n",
    "* $n$ = 16 stocks\n",
    "* $N$ = 8 processors\n",
    "\n",
    "The scenarios are distributed time invariantly to the processors in a random way. This means that each processor sticks to the scenarios that it has been assigned and the assignment does not change online. In addition, the constraints are radnomly assigned to some processor as well. "
   ]
  },
  {
   "cell_type": "code",
   "execution_count": 2,
   "metadata": {
    "collapsed": false
   },
   "outputs": [
    {
     "name": "stdout",
     "output_type": "stream",
     "text": [
      "0.13599540654699743\n",
      "0.04668774461354761\n",
      "Number of processors: \n",
      " Int8[19,54,35,30,5,21,7,29]\n"
     ]
    }
   ],
   "source": [
    "## Minimum variance log-optimal investment strategy: Problem data\n",
    "\n",
    "srand(1234)\n",
    "\n",
    "global m, n # m: scenaria, n: stocks\n",
    "m, n = 200, 16\n",
    "\n",
    "global π # probability vector\n",
    "π = rand(m,1)\n",
    "π = π ./ sum(π)\n",
    "\n",
    "global p # return per scenario\n",
    "p = zeros(n,m)\n",
    "[ p[:,j] = 1*rand(n) for j in 1 : m ]\n",
    "\n",
    "global N # No of processors\n",
    "N = 8\n",
    "\n",
    "global Σ # covariance matrix\n",
    "Σ = ((1/sqrt(m-1))*(p-mean(p,2)*ones(1,m))) * ((1/sqrt(m-1))*(p-mean(p,2)*ones(1,m)))'\n",
    "\n",
    "global L # Lipschitz\n",
    "L = eigmax(Σ)\n",
    "println(L)\n",
    "\n",
    "global μ # strong convexity\n",
    "μ = max(eigmin(Σ), 0)\n",
    "println(μ)\n",
    "\n",
    "# Initialize agents\n",
    "No_terms = rand(N);\n",
    "No_terms = round(Int8, m * (No_terms / sum(No_terms)) )\n",
    "if maximum(No_terms) > m\n",
    "    val, idx = findmax(No_terms)\n",
    "    No_terms[idx] = val - (max(No_terms)-m)\n",
    "end\n",
    "println(\"Number of processors: \\n $No_terms\")\n",
    "\n",
    "Processor, P, Π, scenarios = cell(N+1), cell(N), cell(N), cell(N)\n",
    "# Agent, P, Π, scenaria = cell(N), cell(N), cell(N), cell(N)\n",
    "# Agents' data\n",
    "temp = 0;\n",
    "for i in 1:N\n",
    "    scenarios[i] = collect(temp+1:temp+No_terms[i])\n",
    "    P[i] = p[:,scenarios[i]]\n",
    "    Π[i] = π[scenarios[i]]\n",
    "    init = Agent(Int16(length(scenarios[i])), P[i], Π[i], randn(1,2))\n",
    "    Processor[i] = init\n",
    "    temp += No_terms[i]\n",
    "end\n",
    "Processor[N+1] = Agent(1, P[N], Π[N], randn(1,2));"
   ]
  },
  {
   "cell_type": "code",
   "execution_count": 3,
   "metadata": {
    "collapsed": false
   },
   "outputs": [],
   "source": [
    "## Prototyping functions and solvers\n",
    "\n",
    "# -------------------------------------\n",
    "# gradient function for showing off\n",
    "# -------------------------------------\n",
    "∇f(x) = 2 * Σ * x\n",
    "\n",
    "\n",
    "# -------------------------------------\n",
    "# compute optimal value\n",
    "# -------------------------------------\n",
    "function funEval(x::Array{Float64, 1})\n",
    "    obj = dot(x, Σ * x)\n",
    "    for j in 1:m\n",
    "        obj -= π[j] * log( dot(p[:,j], x) )\n",
    "    end\n",
    "    return obj\n",
    "end\n",
    "\n",
    "\n",
    "# -------------------------------------\n",
    "# projection onto the unit simplex\n",
    "# -------------------------------------\n",
    "function PΔ(y::Array{Float64, 1})\n",
    "    u = sort(y, rev=true)\n",
    "    K = 0\n",
    "    i = length(u)\n",
    "    while ( (sum(u[1:i])-1)/i > u[i] )\n",
    "        i -= 1\n",
    "    end\n",
    "    K = i\n",
    "    τ = (sum(u[1:K])-1)/K\n",
    "    w = max(y-τ,0)\n",
    "    return w\n",
    "end\n",
    "\n",
    "\n",
    "# -------------------------------------\n",
    "# set up optimizers for subproblem\n",
    "# -------------------------------------\n",
    "global γ # stepsize\n",
    "γ = 1 / L\n",
    "ω_l = 0.5 / N # local weight\n",
    "ω_g = 0.5 # global weight\n",
    "Ω = [ω_l * ones(N); ω_g]\n",
    "\n",
    "Z = cell(1,N+1)\n",
    "\n",
    "prox_point = ones(n)\n",
    "function solveOpt(prox_point::Array{Float64, 1}, Processor::Agent, ω_l::Float64)\n",
    "\n",
    "    # Set up the optimizers\n",
    "    z = cell(1,1)\n",
    "    problem = cell(1,1)\n",
    "\n",
    "    # Variables\n",
    "    z = Variable(n,1)\n",
    "\n",
    "    # Objective\n",
    "    obj = (ω_l/2/γ) * quadform(z-prox_point, eye(n))\n",
    "    for j in 1:Processor.scenaria\n",
    "    obj -= Processor.probs[j] * log( dot(Processor.returns[:,j], z) )\n",
    "    end\n",
    "    problem = minimize(obj)\n",
    "    solve!(problem, solver)  \n",
    "    return z\n",
    "end\n",
    "Union{};"
   ]
  },
  {
   "cell_type": "code",
   "execution_count": 4,
   "metadata": {
    "collapsed": false
   },
   "outputs": [
    {
     "name": "stdout",
     "output_type": "stream",
     "text": [
      "  8.586458 seconds (13.87 M allocations: 661.872 MB, 1.80% gc time)\n"
     ]
    },
    {
     "data": {
      "text/plain": [
       "Dict{ASCIIString,Array{Float64,1}} with 2 entries:\n",
       "  \"optimal value central\" => [0.6735442239538084]\n",
       "  \"optimizer central\"     => [2.140743595597664e-11,0.031568354104150737,2.0249…"
      ]
     },
     "execution_count": 4,
     "metadata": {},
     "output_type": "execute_result"
    }
   ],
   "source": [
    "## Solve once centrally\n",
    "\n",
    "# -------------------------------------\n",
    "# Set up objective as:\n",
    "# minimize   x'Σx - Σ_{j=1}^m πj log(pj'x)\n",
    "# subject to x>0, 1'x=1\n",
    "# -------------------------------------\n",
    "\n",
    "# Solve with Convex\n",
    "x = Variable(n)\n",
    "\n",
    "# Objective\n",
    "obj = quadform(x, Σ)\n",
    "for j in 1:m\n",
    "    obj -= π[j] * log( dot(p[:,j], x) );\n",
    "end\n",
    "central_problem = minimize(obj)\n",
    "\n",
    "# Constraints\n",
    "central_problem.constraints += x >= 0\n",
    "central_problem.constraints += sum(x) == 1\n",
    "@time begin\n",
    "    solve!(central_problem, solver);\n",
    "end\n",
    "\n",
    "global OPT\n",
    "OPT = Dict([(\"optimizer central\", collect(evaluate(x))), (\"optimal value central\", collect(evaluate(obj)))])\n",
    "# println(\"\\n x is:\\n $(evaluate(x))\")\n",
    "# println(\"\\n objective is:\\n $(evaluate(obj))\")\n",
    "# println(\"\\n Σ(x) is:\\n $(sum(OPT[\"optimizer central\"]))\")"
   ]
  },
  {
   "cell_type": "markdown",
   "metadata": {},
   "source": [
    "$\\textbf{The Sync algorithm}$\n",
    "\n",
    "We employ the $\\textit{Synchronous Generalized Forward-Backward Splitting (SyncGFBS)}$ algorithm, as developed in $[\\textit{Raguet, Fadili, Peyre, Generalized Forward-Backward Splitting}]$ in order to distribute and parallelize the solution. The algorithm solves problems of the form \n",
    "\\begin{align}\n",
    "&{\\text{minimize}} && f(x) + \\sum_{i=1}^{N}g_i(x)\\enspace,\n",
    "\\end{align}\n",
    "with variable $x\\in\\mathbb{R}^n$.\n",
    "\n",
    "In the case of interest\n",
    "* $f(x) = x'\\Sigma x$\n",
    "* $g_i(x) = - \\sum_{j=1}^{N_l}\\pi_j\\mathrm{log}(p_j^\\top x),\\; i=1,\\ldots,N-1$\n",
    "* $g_N(x) = - \\sum_{j=1}^{N_N}\\pi_j\\mathrm{log}(p_j^\\top x)$\n",
    "* $g_{N+1}(x) = \\delta(x\\mid x\\succeq 0, \\mathbf{1}^\\top x=1)$,\n",
    "\n",
    "where $\\delta(x\\mid\\mathcal{X})$ is an indicator function for the convex set $\\mathcal{X}$, in this case the unit simplex.\n",
    "\n",
    "A master node is assigned the $x$ variables, while each agent maintains a local copy $z_i$.\n",
    "Each agent solves a $\\textit{proximal minimization problem of the form}$\n",
    "\n",
    "\\begin{align}\n",
    "&{\\text{minimize}} && g_i(z_i) + \\frac{\\omega_i}{2\\gamma}\\|z_i-y\\|_2^2\\enspace,\n",
    "\\end{align}\n",
    "\n",
    "where $\\omega_i>0$ and $\\sum_i \\omega_i = 1$, $\\gamma<2/L$ is a stepsize and $L=\\lambda_{\\max}(\\Sigma)$, and $y = 2x - z_i - γ∇f(x)$. \n",
    "The weighted average of the local copies constitutes the global variable $x=\\sum_{i=1}^N\\omega_iz_i$."
   ]
  },
  {
   "cell_type": "code",
   "execution_count": null,
   "metadata": {
    "collapsed": true
   },
   "outputs": [],
   "source": [
    "# Verify with synchronous generalized forward-backward splitting (SyncGFBS)\n",
    "\n",
    "η = 1\n",
    "\n",
    "ω_l = 0.5 / N # local weight\n",
    "ω_g = 0.5 # global weight\n",
    "Ω = [ω_l * ones(N); ω_g]\n",
    "\n",
    "# initialize vars and residuals\n",
    "# X is global, while Z[i] are the local optimizers\n",
    "X, Z, Xold, z = zeros(n), cell(1,N+1), zeros(n), zeros(n,N+1)\n",
    "for i in 1 : N+1\n",
    "    Z[i] = zeros(n)\n",
    "end\n",
    "res = 1 # residual for termination\n",
    "\n",
    "count = 0\n",
    "\n",
    "@time begin\n",
    "    \n",
    "    while res >= 1e-4\n",
    "\n",
    "        # local updates \n",
    "        for i in 1:N\n",
    "            prox_point = 2 * X - Z[i] - γ * ∇f(X)\n",
    "            Z[i] += η * (collect(evaluate(solveOpt(prox_point, Processor[i], ω_l))) - X)\n",
    "        end\n",
    "        prox_point = 2 * X - Z[N+1] - γ * ∇f(X)\n",
    "        Z[N+1] += η * (PΔ(prox_point) - X)\n",
    "    \n",
    "        \n",
    "        # global update\n",
    "        Xold = X\n",
    "        for i in 1:N+1\n",
    "            z[:,i] = Z[i]\n",
    "        end\n",
    "        X = z * Ω  \n",
    "        \n",
    "        # residual update\n",
    "        res = norm(X - Xold) / norm(X) \n",
    "        \n",
    "        count += 1\n",
    "        if mod(count, 100) == 0\n",
    "            println(\"Counter: $count \\n\")\n",
    "        end\n",
    "\n",
    "    end\n",
    "    \n",
    "end\n",
    "\n",
    "# compute optimal value\n",
    "obj = funEval(X)\n",
    "\n",
    "OPT = Dict([(\"optimizer synchronous GFBS\", X), (\"optimal value synchronous GFBS\", obj)])\n",
    "println(\"X is:\\n $X\")\n",
    "println(\"objective is:\\n $(OPT[\"optimal value synchronous GFBS\"])\")\n",
    "println(\"\\n Σ(x) is:\\n $(sum(OPT[\"optimizer synchronous GFBS\"]))\")\n",
    "println(\"error is:\\n $(norm(evaluate(x)-X))\")\n",
    "println(\"\\n total number of iterations: $count \\n\")"
   ]
  },
  {
   "cell_type": "markdown",
   "metadata": {},
   "source": [
    "$\\textbf{The Async algorithm}$\n",
    "\n",
    "In an asynchronous implementation of GFBS all $N=8$ processors execute their corresponding operations continuously. Whenever a processor $i_k$ updates, a master node performs the averaging $x_k=\\sum_{i\\neq i_k}\\omega_iz_i + \\omega_{i_k}z_{i_k}$ using the previously updated values $z_i$ for $i\\neq i_k$ and the laterst update for $i=i_k$.\n",
    "\n",
    "In order to simulate the asycn implementation we have each processor execute its optimization step $100$ times and consequently fit a normal distribution $\\mathrm{SolveTime(i)}\\sim\\mathcal{N}(\\tau_i,\\sigma_i)$ to the sampled execution times. In this way we can estimate the time it will take to perform one local update by drawing a sample from its corresponding distribution.\n",
    "\n",
    "First initialize with $t_i=\\mathrm{SolveTime(i)}$, $t=0$ and some $T_{\\mathrm{end}}>t$.\n",
    "\n",
    "The algorithm reads as follows:\n",
    "1. $j\\leftarrow \\mathrm{argmin}_i\\;t_i$\n",
    "2. $t\\leftarrow t + t_j$\n",
    "3. $t_j\\leftarrow t + \\mathrm{SolveTime(j)}$\n",
    "\n",
    "Repeat until $t\\geq T_{\\mathrm{end}}$.\n",
    "\n",
    "More details about both AsyncGFBS and the Inertial version can be found in~XXX\n"
   ]
  },
  {
   "cell_type": "code",
   "execution_count": 5,
   "metadata": {
    "collapsed": false
   },
   "outputs": [
    {
     "name": "stderr",
     "output_type": "stream",
     "text": [
      "\u001b[1m\u001b[31mWARNING: Problem status Suboptimal; solution may be inaccurate.\u001b[0m\n",
      "\u001b[1m\u001b[31mWARNING: Problem status Suboptimal; solution may be inaccurate.\u001b[0m\n"
     ]
    },
    {
     "data": {
      "text/plain": [
       "Dict{Int64,Float64} with 9 entries:\n",
       "  7 => 0.0011420317391628726\n",
       "  4 => 0.0053499267358207096\n",
       "  9 => 1.38126793953309e-5\n",
       "  2 => 0.014177889243981105\n",
       "  3 => 0.008625054605278076\n",
       "  5 => 0.0008351276322270084\n",
       "  8 => 0.007712318584545648\n",
       "  6 => 6.584734113599441e-5\n",
       "  1 => 0.009304169130230485"
      ]
     },
     "execution_count": 5,
     "metadata": {},
     "output_type": "execute_result"
    }
   ],
   "source": [
    "## Generate delays\n",
    "\n",
    "# Get time for the processors' updates\n",
    "t = zeros(100,N+1)\n",
    "for k in 1:100\n",
    "    for i in 1:N\n",
    "        \n",
    "        prox_point = randn(n)\n",
    "        \n",
    "        local t0 = time_ns() \n",
    "        Z[i] = solveOpt(prox_point, Processor[i], ω_l)\n",
    "        t[k,i] = (time_ns()-t0)/1e9 \n",
    "    end\n",
    "    local t0 = time_ns()\n",
    "    Z[N+1] = PΔ(prox_point)\n",
    "    t[k,N+1] = (time_ns()-t0)/1e9\n",
    "end\n",
    "\n",
    "rndUpdate = zeros(N+1)\n",
    "\n",
    "for i in 1:N+1\n",
    "    distAsync = fit_mle(Normal, t[2:end,i]);\n",
    "    Processor[i].times[1] = distAsync.μ\n",
    "    Processor[i].times[2] = distAsync.σ\n",
    "    rndUpdate[i] = distAsync.μ + distAsync.σ*randn()\n",
    "end\n",
    "\n",
    "# Generate next update times for coordinates\n",
    "UpdateQueue = Dict{Int64,Float64}(zip(1:N+1, abs(rndUpdate)));\n",
    "# println(\"$(UpdateQueue)\")\n",
    "# println(\"\\n Sorted \\n $(sort(collect(zip(values(UpdateQueue),keys(UpdateQueue)))))\")\n",
    "# temp1 = collect(keys(UpdateQueue))[indmin(collect(values(UpdateQueue)))]\n",
    "# println(\"$(temp1)\")\n",
    "# temp2 = collect(values(UpdateQueue))[indmin(collect(values(UpdateQueue)))]\n",
    "# println(\"$(temp2)\")"
   ]
  },
  {
   "cell_type": "code",
   "execution_count": 6,
   "metadata": {
    "collapsed": false
   },
   "outputs": [
    {
     "data": {
      "text/plain": [
       "AsyncGFBS (generic function with 1 method)"
      ]
     },
     "execution_count": 6,
     "metadata": {},
     "output_type": "execute_result"
    }
   ],
   "source": [
    "## Asynchronous generalized forward-backward splitting (AsyncGFBS)\n",
    "\n",
    "srand(1234)\n",
    "\n",
    "function AsyncGFBS(Tend::Float64, UpdateQueue::Dict{Int64,Float64}, Processor::Array{Any,1}, optval::Float64, η::Float64, ω_l::Float64, Ω::Array{Float64,1})\n",
    "    k::Int64 = 1\n",
    "    T = [0.0]\n",
    "    NoUpdates = zeros(Int64,N+1)\n",
    "    LastUpdateIndex = ones(Int64,N+1)\n",
    "\n",
    "    # x is global averaging, z[i] are the local optimizers\n",
    "    x, Z, z = zeros(n,N+1), cell(1,N+1), zeros(n,N+1)\n",
    "    for i in 1 : N+1\n",
    "        Z[i] = zeros(n)\n",
    "    end\n",
    "    res, r = [0.0], [0.0]\n",
    "    \n",
    "    while T[end] < Tend\n",
    "        \n",
    "        # choose the agent that's next in line to update\n",
    "        minIdx = indmin(collect(values(UpdateQueue)))\n",
    "        TimeNextUpdate = collect(values(UpdateQueue))[minIdx]\n",
    "        ik = collect(keys(UpdateQueue))[minIdx]\n",
    "        NoUpdates[ik] += 1 \n",
    "        \n",
    "        # local updates \n",
    "        prox_point = 2 * x[:,ik] - Z[ik] - γ * ∇f(x[:,ik])\n",
    "        if ik != N+1\n",
    "            Z[ik] += η * (collect(evaluate(solveOpt(prox_point, Processor[ik], ω_l))) - x[:,ik])\n",
    "        else\n",
    "            Z[N+1] += η * (PΔ(prox_point) - x[:,ik])\n",
    "        end\n",
    "        \n",
    "        # global update\n",
    "        z[:,ik] = Z[ik]\n",
    "        x[:,ik] = z * Ω  \n",
    "        \n",
    "        # save residual values\n",
    "        push!(r, abs(funEval(x[:,ik])-optval))\n",
    "        push!(res, sum(r[max(1,k-499):k]) / 500)\n",
    "        \n",
    "        # save time values\n",
    "        push!(T,TimeNextUpdate);\n",
    "        if mod(k, 5000) == 0\n",
    "            println(\"Time is: $(T[end]) \\n\")\n",
    "        end\n",
    "        \n",
    "        # update times\n",
    "        UpdateQueue[ik] = TimeNextUpdate + abs(Processor[ik].times[1] + Processor[ik].times[2]*randn())\n",
    "        k += 1;  \n",
    "    end\n",
    "    return x, T, NoUpdates, res, k\n",
    "end"
   ]
  },
  {
   "cell_type": "code",
   "execution_count": 7,
   "metadata": {
    "collapsed": false
   },
   "outputs": [
    {
     "data": {
      "text/plain": [
       "AsyncHBGFBS (generic function with 1 method)"
      ]
     },
     "execution_count": 7,
     "metadata": {},
     "output_type": "execute_result"
    }
   ],
   "source": [
    "## Asynchronous heavy-ball generalized forward-backward splitting (AsyncHBGFBS)\n",
    "\n",
    "srand(1234)\n",
    "\n",
    "function AsyncHBGFBS(Tend::Float64, UpdateQueue::Dict{Int64,Float64}, Processor::Array{Any,1}, optval::Float64, η::Float64, β::Float64, ω_l::Float64, Ω::Array{Float64,1})\n",
    "    k::Int64 = 1\n",
    "    T = [0.0]\n",
    "    NoUpdates = zeros(Int64,n)\n",
    "    LastUpdateIndex = Vector{Int}[[1,1]]\n",
    "    for i = 2:n\n",
    "        push!(LastUpdateIndex, [1,1])\n",
    "    end\n",
    "    \n",
    "    # x is global, while z[i] are the local optimizers\n",
    "    x, x_old, v, y, Z, z, z_old = zeros(n,N+1), zeros(n,N+1), zeros(n,N+1),\n",
    "                                  zeros(n,N+1), cell(1,N+1), zeros(n,N+1), zeros(n,N+1)\n",
    "    for i in 1 : N+1\n",
    "        Z[i] = zeros(n)\n",
    "    end\n",
    "    res, r = [0.0], [0.0]\n",
    "    \n",
    "    while T[end] < Tend\n",
    "        \n",
    "        # choose agent to update\n",
    "        minIdx = indmin(collect(values(UpdateQueue)))\n",
    "        TimeNextUpdate = collect(values(UpdateQueue))[minIdx]\n",
    "        ik = collect(keys(UpdateQueue))[minIdx]\n",
    "        NoUpdates[ik] += 1\n",
    "        \n",
    "        # local updates \n",
    "        y[:,ik] = (1 + β) * z[:,ik] - β * z_old[:,ik]\n",
    "        v[:,ik] = (1 + β) * x[:,ik] - β * x_old[:,ik]\n",
    "        prox_point = 2 * v[:,ik] - y[:,ik] - γ * ∇f(v[:,ik])\n",
    "        if ik != N+1\n",
    "            Z[ik] = y[:,ik] + η * (collect(evaluate(solveOpt(prox_point, Processor[ik], ω_l))) - v[:,ik])\n",
    "        else\n",
    "            Z[N+1] = y[:,N+1] + η * (PΔ(prox_point) - v[:,N+1])\n",
    "        end\n",
    "        \n",
    "        # global update\n",
    "        x_old[:,ik] = x[:,ik]\n",
    "        z_old[:,ik] = z[:,ik]\n",
    "        z[:,ik] = Z[ik]\n",
    "        x[:,ik] = z * Ω  \n",
    "        \n",
    "        # save residual values\n",
    "        push!(r, abs(funEval(x[:,ik])-optval))\n",
    "        push!(res, sum(r[max(1,k-499):k]) / 500)\n",
    "\n",
    "        # save time values\n",
    "        push!(T,TimeNextUpdate);\n",
    "        if mod(k, 5000) == 0\n",
    "            println(\"Time is: $(T[end]) \\n\")\n",
    "        end\n",
    "        \n",
    "        # update times\n",
    "        UpdateQueue[ik] = TimeNextUpdate + abs(Processor[ik].times[1] + Processor[ik].times[2]*randn())\n",
    "        k += 1\n",
    "    end\n",
    "    return x, T, NoUpdates, res, k\n",
    "end"
   ]
  },
  {
   "cell_type": "code",
   "execution_count": 8,
   "metadata": {
    "collapsed": false
   },
   "outputs": [
    {
     "name": "stdout",
     "output_type": "stream",
     "text": [
      "The delay is: 1027.0 \n",
      "\n",
      "The stepsize is: 0.5 \n",
      "\n"
     ]
    },
    {
     "name": "stderr",
     "output_type": "stream",
     "text": [
      "\u001b[1m\u001b[31mWARNING: Problem status Suboptimal; solution may be inaccurate.\u001b[0m\n"
     ]
    },
    {
     "name": "stdout",
     "output_type": "stream",
     "text": [
      "Time is: 0.06702434202763442 \n",
      "\n"
     ]
    },
    {
     "name": "stderr",
     "output_type": "stream",
     "text": [
      "\u001b[1m\u001b[31mWARNING: Problem status Suboptimal; solution may be inaccurate.\u001b[0m\n",
      "\u001b[1m\u001b[31mWARNING: Problem status Suboptimal; solution may be inaccurate.\u001b[0m\n",
      "\u001b[1m\u001b[31mWARNING: Problem status Suboptimal; solution may be inaccurate.\u001b[0m\n",
      "\u001b[1m\u001b[31mWARNING: Problem status Suboptimal; solution may be inaccurate.\u001b[0m\n",
      "\u001b[1m\u001b[31mWARNING: Problem status Suboptimal; solution may be inaccurate.\u001b[0m\n",
      "\u001b[1m\u001b[31mWARNING: Problem status Suboptimal; solution may be inaccurate.\u001b[0m\n",
      "\u001b[1m\u001b[31mWARNING: Problem status Suboptimal; solution may be inaccurate.\u001b[0m\n",
      "\u001b[1m\u001b[31mWARNING: Problem status Suboptimal; solution may be inaccurate.\u001b[0m\n",
      "\u001b[1m\u001b[31mWARNING: Problem status Suboptimal; solution may be inaccurate.\u001b[0m\n"
     ]
    },
    {
     "name": "stdout",
     "output_type": "stream",
     "text": [
      "Time is: 0.1339797555910297 \n",
      "\n"
     ]
    },
    {
     "name": "stderr",
     "output_type": "stream",
     "text": [
      "\u001b[1m\u001b[31mWARNING: Problem status Suboptimal; solution may be inaccurate.\u001b[0m\n",
      "\u001b[1m\u001b[31mWARNING: Problem status Suboptimal; solution may be inaccurate.\u001b[0m\n",
      "\u001b[1m\u001b[31mWARNING: Problem status Suboptimal; solution may be inaccurate.\u001b[0m\n",
      "\u001b[1m\u001b[31mWARNING: Problem status Suboptimal; solution may be inaccurate.\u001b[0m\n",
      "\u001b[1m\u001b[31mWARNING: Problem status Suboptimal; solution may be inaccurate.\u001b[0m\n",
      "\u001b[1m\u001b[31mWARNING: Problem status Suboptimal; solution may be inaccurate.\u001b[0m\n",
      "\u001b[1m\u001b[31mWARNING: Problem status Suboptimal; solution may be inaccurate.\u001b[0m\n",
      "\u001b[1m\u001b[31mWARNING: Problem status Suboptimal; solution may be inaccurate.\u001b[0m\n",
      "\u001b[1m\u001b[31mWARNING: Problem status Suboptimal; solution may be inaccurate.\u001b[0m\n",
      "\u001b[1m\u001b[31mWARNING: Problem status Suboptimal; solution may be inaccurate.\u001b[0m\n",
      "\u001b[1m\u001b[31mWARNING: Problem status Suboptimal; solution may be inaccurate.\u001b[0m\n",
      "\u001b[1m\u001b[31mWARNING: Problem status Suboptimal; solution may be inaccurate.\u001b[0m\n",
      "\u001b[1m\u001b[31mWARNING: Problem status Suboptimal; solution may be inaccurate.\u001b[0m\n",
      "\u001b[1m\u001b[31mWARNING: Problem status Suboptimal; solution may be inaccurate.\u001b[0m\n",
      "\u001b[1m\u001b[31mWARNING: Problem status Suboptimal; solution may be inaccurate.\u001b[0m\n",
      "\u001b[1m\u001b[31mWARNING: Problem status Suboptimal; solution may be inaccurate.\u001b[0m\n"
     ]
    },
    {
     "name": "stdout",
     "output_type": "stream",
     "text": [
      "Time is: 0.20081908751550587 \n",
      "\n"
     ]
    },
    {
     "name": "stderr",
     "output_type": "stream",
     "text": [
      "\u001b[1m\u001b[31mWARNING: Problem status Suboptimal; solution may be inaccurate.\u001b[0m\n",
      "\u001b[1m\u001b[31mWARNING: Problem status Suboptimal; solution may be inaccurate.\u001b[0m\n",
      "\u001b[1m\u001b[31mWARNING: Problem status Suboptimal; solution may be inaccurate.\u001b[0m\n",
      "\u001b[1m\u001b[31mWARNING: Problem status Suboptimal; solution may be inaccurate.\u001b[0m\n",
      "\u001b[1m\u001b[31mWARNING: Problem status Suboptimal; solution may be inaccurate.\u001b[0m\n",
      "\u001b[1m\u001b[31mWARNING: Problem status Suboptimal; solution may be inaccurate.\u001b[0m\n",
      "\u001b[1m\u001b[31mWARNING: Problem status Suboptimal; solution may be inaccurate.\u001b[0m\n",
      "\u001b[1m\u001b[31mWARNING: Problem status Suboptimal; solution may be inaccurate.\u001b[0m\n",
      "\u001b[1m\u001b[31mWARNING: Problem status Suboptimal; solution may be inaccurate.\u001b[0m\n",
      "\u001b[1m\u001b[31mWARNING: Problem status Suboptimal; solution may be inaccurate.\u001b[0m\n",
      "\u001b[1m\u001b[31mWARNING: Problem status Suboptimal; solution may be inaccurate.\u001b[0m\n",
      "\u001b[1m\u001b[31mWARNING: Problem status Suboptimal; solution may be inaccurate.\u001b[0m\n",
      "\u001b[1m\u001b[31mWARNING: Problem status Suboptimal; solution may be inaccurate.\u001b[0m\n",
      "\u001b[1m\u001b[31mWARNING: Problem status Suboptimal; solution may be inaccurate.\u001b[0m\n",
      "\u001b[1m\u001b[31mWARNING: Problem status Suboptimal; solution may be inaccurate.\u001b[0m\n",
      "\u001b[1m\u001b[31mWARNING: Problem status Suboptimal; solution may be inaccurate.\u001b[0m\n",
      "\u001b[1m\u001b[31mWARNING: Problem status Suboptimal; solution may be inaccurate.\u001b[0m\n",
      "\u001b[1m\u001b[31mWARNING: Problem status Suboptimal; solution may be inaccurate.\u001b[0m\n",
      "\u001b[1m\u001b[31mWARNING: Problem status Suboptimal; solution may be inaccurate.\u001b[0m\n",
      "\u001b[1m\u001b[31mWARNING: Problem status Suboptimal; solution may be inaccurate.\u001b[0m\n",
      "\u001b[1m\u001b[31mWARNING: Problem status Suboptimal; solution may be inaccurate.\u001b[0m\n",
      "\u001b[1m\u001b[31mWARNING: Problem status Suboptimal; solution may be inaccurate.\u001b[0m\n",
      "\u001b[1m\u001b[31mWARNING: Problem status Suboptimal; solution may be inaccurate.\u001b[0m\n",
      "\u001b[1m\u001b[31mWARNING: Problem status Suboptimal; solution may be inaccurate.\u001b[0m\n",
      "\u001b[1m\u001b[31mWARNING: Problem status Suboptimal; solution may be inaccurate.\u001b[0m\n",
      "\u001b[1m\u001b[31mWARNING: Problem status Suboptimal; solution may be inaccurate.\u001b[0m\n",
      "\u001b[1m\u001b[31mWARNING: Problem status Suboptimal; solution may be inaccurate.\u001b[0m\n",
      "\u001b[1m\u001b[31mWARNING: Problem status Suboptimal; solution may be inaccurate.\u001b[0m\n",
      "\u001b[1m\u001b[31mWARNING: Problem status Suboptimal; solution may be inaccurate.\u001b[0m\n",
      "\u001b[1m\u001b[31mWARNING: Problem status Suboptimal; solution may be inaccurate.\u001b[0m\n",
      "\u001b[1m\u001b[31mWARNING: Problem status Suboptimal; solution may be inaccurate.\u001b[0m\n",
      "\u001b[1m\u001b[31mWARNING: Problem status Suboptimal; solution may be inaccurate.\u001b[0m\n"
     ]
    },
    {
     "name": "stdout",
     "output_type": "stream",
     "text": [
      "Time is: 0.2679773880741715 \n",
      "\n"
     ]
    },
    {
     "name": "stderr",
     "output_type": "stream",
     "text": [
      "\u001b[1m\u001b[31mWARNING: Problem status Suboptimal; solution may be inaccurate.\u001b[0m\n",
      "\u001b[1m\u001b[31mWARNING: Problem status Suboptimal; solution may be inaccurate.\u001b[0m\n",
      "\u001b[1m\u001b[31mWARNING: Problem status Suboptimal; solution may be inaccurate.\u001b[0m\n",
      "\u001b[1m\u001b[31mWARNING: Problem status Suboptimal; solution may be inaccurate.\u001b[0m\n",
      "\u001b[1m\u001b[31mWARNING: Problem status Suboptimal; solution may be inaccurate.\u001b[0m\n",
      "\u001b[1m\u001b[31mWARNING: Problem status Suboptimal; solution may be inaccurate.\u001b[0m\n",
      "\u001b[1m\u001b[31mWARNING: Problem status Suboptimal; solution may be inaccurate.\u001b[0m\n",
      "\u001b[1m\u001b[31mWARNING: Problem status Suboptimal; solution may be inaccurate.\u001b[0m\n",
      "\u001b[1m\u001b[31mWARNING: Problem status Suboptimal; solution may be inaccurate.\u001b[0m\n",
      "\u001b[1m\u001b[31mWARNING: Problem status Suboptimal; solution may be inaccurate.\u001b[0m\n",
      "\u001b[1m\u001b[31mWARNING: Problem status Suboptimal; solution may be inaccurate.\u001b[0m\n"
     ]
    },
    {
     "name": "stdout",
     "output_type": "stream",
     "text": [
      "--------------------------------------------------------------------\n",
      "\n",
      " Results for Async GFBS\n",
      "\n",
      "--------------------------------------------------------------------\n"
     ]
    },
    {
     "name": "stderr",
     "output_type": "stream",
     "text": [
      "\u001b[1m\u001b[31mWARNING: Problem status Suboptimal; solution may be inaccurate.\u001b[0m\n"
     ]
    },
    {
     "name": "stdout",
     "output_type": "stream",
     "text": [
      "X is:\n",
      " [0.0002591937702423053 0.00031960706415645745 0.00023821196832285452 0.0003706621132906207 0.03719434452556669 0.05613720755656448 0.09508644279399414 0.06561789471134416 0.00021043866663905675 0.1429580288937995 0.0995855759733204 0.00036810046576229993 0.24207675312512222 0.1075555429017454 0.018341931416506085 0.13867765054789505] \n",
      "\n",
      "\n",
      " The optimal value is: 0.6705268030923236 \n",
      "\n",
      "\n",
      " Σ(x) is:\n",
      " 1.0049975864942717 \n",
      "\n",
      "error is:\n",
      " 0.08440712874218223 \n",
      "\n",
      "\n",
      " total number of iters is:\n",
      " 22401\n",
      "\n",
      "\n",
      "\n"
     ]
    },
    {
     "name": "stderr",
     "output_type": "stream",
     "text": [
      "\u001b[1m\u001b[31mWARNING: Problem status Suboptimal; solution may be inaccurate.\u001b[0m\n",
      "\u001b[1m\u001b[31mWARNING: Problem status Suboptimal; solution may be inaccurate.\u001b[0m\n",
      "\u001b[1m\u001b[31mWARNING: Problem status Suboptimal; solution may be inaccurate.\u001b[0m\n",
      "\u001b[1m\u001b[31mWARNING: Problem status Suboptimal; solution may be inaccurate.\u001b[0m\n",
      "\u001b[1m\u001b[31mWARNING: Problem status Suboptimal; solution may be inaccurate.\u001b[0m\n",
      "\u001b[1m\u001b[31mWARNING: Problem status Suboptimal; solution may be inaccurate.\u001b[0m\n",
      "\u001b[1m\u001b[31mWARNING: Problem status Suboptimal; solution may be inaccurate.\u001b[0m\n",
      "\u001b[1m\u001b[31mWARNING: Problem status Suboptimal; solution may be inaccurate.\u001b[0m\n",
      "\u001b[1m\u001b[31mWARNING: Problem status Suboptimal; solution may be inaccurate.\u001b[0m\n",
      "\u001b[1m\u001b[31mWARNING: Problem status Suboptimal; solution may be inaccurate.\u001b[0m\n",
      "\u001b[1m\u001b[31mWARNING: Problem status Suboptimal; solution may be inaccurate.\u001b[0m\n"
     ]
    },
    {
     "name": "stdout",
     "output_type": "stream",
     "text": [
      "Time is: 0.06720201954713978 \n",
      "\n"
     ]
    },
    {
     "name": "stderr",
     "output_type": "stream",
     "text": [
      "\u001b[1m\u001b[31mWARNING: Problem status Suboptimal; solution may be inaccurate.\u001b[0m\n",
      "\u001b[1m\u001b[31mWARNING: Problem status Suboptimal; solution may be inaccurate.\u001b[0m\n",
      "\u001b[1m\u001b[31mWARNING: Problem status Suboptimal; solution may be inaccurate.\u001b[0m\n",
      "\u001b[1m\u001b[31mWARNING: Problem status Suboptimal; solution may be inaccurate.\u001b[0m\n",
      "\u001b[1m\u001b[31mWARNING: Problem status Suboptimal; solution may be inaccurate.\u001b[0m\n",
      "\u001b[1m\u001b[31mWARNING: Problem status Suboptimal; solution may be inaccurate.\u001b[0m\n",
      "\u001b[1m\u001b[31mWARNING: Problem status Suboptimal; solution may be inaccurate.\u001b[0m\n",
      "\u001b[1m\u001b[31mWARNING: Problem status Suboptimal; solution may be inaccurate.\u001b[0m\n",
      "\u001b[1m\u001b[31mWARNING: Problem status Suboptimal; solution may be inaccurate.\u001b[0m\n",
      "\u001b[1m\u001b[31mWARNING: Problem status Suboptimal; solution may be inaccurate.\u001b[0m\n",
      "\u001b[1m\u001b[31mWARNING: Problem status Suboptimal; solution may be inaccurate.\u001b[0m\n",
      "\u001b[1m\u001b[31mWARNING: Problem status Suboptimal; solution may be inaccurate.\u001b[0m\n",
      "\u001b[1m\u001b[31mWARNING: Problem status Suboptimal; solution may be inaccurate.\u001b[0m\n",
      "\u001b[1m\u001b[31mWARNING: Problem status Suboptimal; solution may be inaccurate.\u001b[0m\n",
      "\u001b[1m\u001b[31mWARNING: Problem status Suboptimal; solution may be inaccurate.\u001b[0m\n",
      "\u001b[1m\u001b[31mWARNING: Problem status Suboptimal; solution may be inaccurate.\u001b[0m\n",
      "\u001b[1m\u001b[31mWARNING: Problem status Suboptimal; solution may be inaccurate.\u001b[0m\n",
      "\u001b[1m\u001b[31mWARNING: Problem status Suboptimal; solution may be inaccurate.\u001b[0m\n",
      "\u001b[1m\u001b[31mWARNING: Problem status Suboptimal; solution may be inaccurate.\u001b[0m\n",
      "\u001b[1m\u001b[31mWARNING: Problem status Suboptimal; solution may be inaccurate.\u001b[0m\n",
      "\u001b[1m\u001b[31mWARNING: Problem status Suboptimal; solution may be inaccurate.\u001b[0m\n",
      "\u001b[1m\u001b[31mWARNING: Problem status Suboptimal; solution may be inaccurate.\u001b[0m\n",
      "\u001b[1m\u001b[31mWARNING: Problem status Suboptimal; solution may be inaccurate.\u001b[0m\n",
      "\u001b[1m\u001b[31mWARNING: Problem status Suboptimal; solution may be inaccurate.\u001b[0m\n",
      "\u001b[1m\u001b[31mWARNING: Problem status Suboptimal; solution may be inaccurate.\u001b[0m\n",
      "\u001b[1m\u001b[31mWARNING: Problem status Suboptimal; solution may be inaccurate.\u001b[0m\n",
      "\u001b[1m\u001b[31mWARNING: Problem status Suboptimal; solution may be inaccurate.\u001b[0m\n",
      "\u001b[1m\u001b[31mWARNING: Problem status Suboptimal; solution may be inaccurate.\u001b[0m\n",
      "\u001b[1m\u001b[31mWARNING: Problem status Suboptimal; solution may be inaccurate.\u001b[0m\n",
      "\u001b[1m\u001b[31mWARNING: Problem status Suboptimal; solution may be inaccurate.\u001b[0m\n",
      "\u001b[1m\u001b[31mWARNING: Problem status Suboptimal; solution may be inaccurate.\u001b[0m\n",
      "\u001b[1m\u001b[31mWARNING: Problem status Suboptimal; solution may be inaccurate.\u001b[0m\n",
      "\u001b[1m\u001b[31mWARNING: Problem status Suboptimal; solution may be inaccurate.\u001b[0m\n",
      "\u001b[1m\u001b[31mWARNING: Problem status Suboptimal; solution may be inaccurate.\u001b[0m\n"
     ]
    },
    {
     "name": "stdout",
     "output_type": "stream",
     "text": [
      "Time is: 0.13414193122828202 \n",
      "\n"
     ]
    },
    {
     "name": "stderr",
     "output_type": "stream",
     "text": [
      "\u001b[1m\u001b[31mWARNING: Problem status Suboptimal; solution may be inaccurate.\u001b[0m\n",
      "\u001b[1m\u001b[31mWARNING: Problem status Suboptimal; solution may be inaccurate.\u001b[0m\n",
      "\u001b[1m\u001b[31mWARNING: Problem status Suboptimal; solution may be inaccurate.\u001b[0m\n",
      "\u001b[1m\u001b[31mWARNING: Problem status Suboptimal; solution may be inaccurate.\u001b[0m\n",
      "\u001b[1m\u001b[31mWARNING: Problem status Suboptimal; solution may be inaccurate.\u001b[0m\n",
      "\u001b[1m\u001b[31mWARNING: Problem status Suboptimal; solution may be inaccurate.\u001b[0m\n",
      "\u001b[1m\u001b[31mWARNING: Problem status Suboptimal; solution may be inaccurate.\u001b[0m\n",
      "\u001b[1m\u001b[31mWARNING: Problem status Suboptimal; solution may be inaccurate.\u001b[0m\n",
      "\u001b[1m\u001b[31mWARNING: Problem status Suboptimal; solution may be inaccurate.\u001b[0m\n",
      "\u001b[1m\u001b[31mWARNING: Problem status Suboptimal; solution may be inaccurate.\u001b[0m\n",
      "\u001b[1m\u001b[31mWARNING: Problem status Suboptimal; solution may be inaccurate.\u001b[0m\n",
      "\u001b[1m\u001b[31mWARNING: Problem status Suboptimal; solution may be inaccurate.\u001b[0m\n",
      "\u001b[1m\u001b[31mWARNING: Problem status Suboptimal; solution may be inaccurate.\u001b[0m\n",
      "\u001b[1m\u001b[31mWARNING: Problem status Suboptimal; solution may be inaccurate.\u001b[0m\n",
      "\u001b[1m\u001b[31mWARNING: Problem status Suboptimal; solution may be inaccurate.\u001b[0m\n",
      "\u001b[1m\u001b[31mWARNING: Problem status Suboptimal; solution may be inaccurate.\u001b[0m\n",
      "\u001b[1m\u001b[31mWARNING: Problem status Suboptimal; solution may be inaccurate.\u001b[0m\n",
      "\u001b[1m\u001b[31mWARNING: Problem status Suboptimal; solution may be inaccurate.\u001b[0m\n",
      "\u001b[1m\u001b[31mWARNING: Problem status Suboptimal; solution may be inaccurate.\u001b[0m\n",
      "\u001b[1m\u001b[31mWARNING: Problem status Suboptimal; solution may be inaccurate.\u001b[0m\n",
      "\u001b[1m\u001b[31mWARNING: Problem status Suboptimal; solution may be inaccurate.\u001b[0m\n",
      "\u001b[1m\u001b[31mWARNING: Problem status Suboptimal; solution may be inaccurate.\u001b[0m\n",
      "\u001b[1m\u001b[31mWARNING: Problem status Suboptimal; solution may be inaccurate.\u001b[0m\n",
      "\u001b[1m\u001b[31mWARNING: Problem status Suboptimal; solution may be inaccurate.\u001b[0m\n",
      "\u001b[1m\u001b[31mWARNING: Problem status Suboptimal; solution may be inaccurate.\u001b[0m\n",
      "\u001b[1m\u001b[31mWARNING: Problem status Suboptimal; solution may be inaccurate.\u001b[0m\n",
      "\u001b[1m\u001b[31mWARNING: Problem status Suboptimal; solution may be inaccurate.\u001b[0m\n",
      "\u001b[1m\u001b[31mWARNING: Problem status Suboptimal; solution may be inaccurate.\u001b[0m\n",
      "\u001b[1m\u001b[31mWARNING: Problem status Suboptimal; solution may be inaccurate.\u001b[0m\n",
      "\u001b[1m\u001b[31mWARNING: Problem status Suboptimal; solution may be inaccurate.\u001b[0m\n",
      "\u001b[1m\u001b[31mWARNING: Problem status Suboptimal; solution may be inaccurate.\u001b[0m\n",
      "\u001b[1m\u001b[31mWARNING: Problem status Suboptimal; solution may be inaccurate.\u001b[0m\n",
      "\u001b[1m\u001b[31mWARNING: Problem status Suboptimal; solution may be inaccurate.\u001b[0m\n",
      "\u001b[1m\u001b[31mWARNING: Problem status Suboptimal; solution may be inaccurate.\u001b[0m\n",
      "\u001b[1m\u001b[31mWARNING: Problem status Suboptimal; solution may be inaccurate.\u001b[0m\n",
      "\u001b[1m\u001b[31mWARNING: Problem status Suboptimal; solution may be inaccurate.\u001b[0m\n"
     ]
    },
    {
     "name": "stdout",
     "output_type": "stream",
     "text": [
      "Time is: 0.20130018833882926 \n",
      "\n"
     ]
    },
    {
     "name": "stderr",
     "output_type": "stream",
     "text": [
      "\u001b[1m\u001b[31mWARNING: Problem status Suboptimal; solution may be inaccurate.\u001b[0m\n",
      "\u001b[1m\u001b[31mWARNING: Problem status Suboptimal; solution may be inaccurate.\u001b[0m\n",
      "\u001b[1m\u001b[31mWARNING: Problem status Suboptimal; solution may be inaccurate.\u001b[0m\n",
      "\u001b[1m\u001b[31mWARNING: Problem status Suboptimal; solution may be inaccurate.\u001b[0m\n",
      "\u001b[1m\u001b[31mWARNING: Problem status Suboptimal; solution may be inaccurate.\u001b[0m\n",
      "\u001b[1m\u001b[31mWARNING: Problem status Suboptimal; solution may be inaccurate.\u001b[0m\n",
      "\u001b[1m\u001b[31mWARNING: Problem status Suboptimal; solution may be inaccurate.\u001b[0m\n",
      "\u001b[1m\u001b[31mWARNING: Problem status Suboptimal; solution may be inaccurate.\u001b[0m\n",
      "\u001b[1m\u001b[31mWARNING: Problem status Suboptimal; solution may be inaccurate.\u001b[0m\n",
      "\u001b[1m\u001b[31mWARNING: Problem status Suboptimal; solution may be inaccurate.\u001b[0m\n",
      "\u001b[1m\u001b[31mWARNING: Problem status Suboptimal; solution may be inaccurate.\u001b[0m\n",
      "\u001b[1m\u001b[31mWARNING: Problem status Suboptimal; solution may be inaccurate.\u001b[0m\n",
      "\u001b[1m\u001b[31mWARNING: Problem status Suboptimal; solution may be inaccurate.\u001b[0m\n",
      "\u001b[1m\u001b[31mWARNING: Problem status Suboptimal; solution may be inaccurate.\u001b[0m\n",
      "\u001b[1m\u001b[31mWARNING: Problem status Suboptimal; solution may be inaccurate.\u001b[0m\n",
      "\u001b[1m\u001b[31mWARNING: Problem status Suboptimal; solution may be inaccurate.\u001b[0m\n",
      "\u001b[1m\u001b[31mWARNING: Problem status Suboptimal; solution may be inaccurate.\u001b[0m\n",
      "\u001b[1m\u001b[31mWARNING: Problem status Suboptimal; solution may be inaccurate.\u001b[0m\n",
      "\u001b[1m\u001b[31mWARNING: Problem status Suboptimal; solution may be inaccurate.\u001b[0m\n",
      "\u001b[1m\u001b[31mWARNING: Problem status Suboptimal; solution may be inaccurate.\u001b[0m\n",
      "\u001b[1m\u001b[31mWARNING: Problem status Suboptimal; solution may be inaccurate.\u001b[0m\n",
      "\u001b[1m\u001b[31mWARNING: Problem status Suboptimal; solution may be inaccurate.\u001b[0m\n",
      "\u001b[1m\u001b[31mWARNING: Problem status Suboptimal; solution may be inaccurate.\u001b[0m\n",
      "\u001b[1m\u001b[31mWARNING: Problem status Suboptimal; solution may be inaccurate.\u001b[0m\n",
      "\u001b[1m\u001b[31mWARNING: Problem status Suboptimal; solution may be inaccurate.\u001b[0m\n",
      "\u001b[1m\u001b[31mWARNING: Problem status Suboptimal; solution may be inaccurate.\u001b[0m\n",
      "\u001b[1m\u001b[31mWARNING: Problem status Suboptimal; solution may be inaccurate.\u001b[0m\n",
      "\u001b[1m\u001b[31mWARNING: Problem status Suboptimal; solution may be inaccurate.\u001b[0m\n",
      "\u001b[1m\u001b[31mWARNING: Problem status Suboptimal; solution may be inaccurate.\u001b[0m\n",
      "\u001b[1m\u001b[31mWARNING: Problem status Suboptimal; solution may be inaccurate.\u001b[0m\n",
      "\u001b[1m\u001b[31mWARNING: Problem status Suboptimal; solution may be inaccurate.\u001b[0m\n",
      "\u001b[1m\u001b[31mWARNING: Problem status Suboptimal; solution may be inaccurate.\u001b[0m\n",
      "\u001b[1m\u001b[31mWARNING: Problem status Suboptimal; solution may be inaccurate.\u001b[0m\n",
      "\u001b[1m\u001b[31mWARNING: Problem status Suboptimal; solution may be inaccurate.\u001b[0m\n"
     ]
    },
    {
     "name": "stdout",
     "output_type": "stream",
     "text": [
      "Time is: 0.2682224999334907 \n",
      "\n"
     ]
    },
    {
     "name": "stderr",
     "output_type": "stream",
     "text": [
      "\u001b[1m\u001b[31mWARNING: Problem status Suboptimal; solution may be inaccurate.\u001b[0m\n",
      "\u001b[1m\u001b[31mWARNING: Problem status Suboptimal; solution may be inaccurate.\u001b[0m\n",
      "\u001b[1m\u001b[31mWARNING: Problem status Suboptimal; solution may be inaccurate.\u001b[0m\n",
      "\u001b[1m\u001b[31mWARNING: Problem status Suboptimal; solution may be inaccurate.\u001b[0m\n",
      "\u001b[1m\u001b[31mWARNING: Problem status Suboptimal; solution may be inaccurate.\u001b[0m\n",
      "\u001b[1m\u001b[31mWARNING: Problem status Suboptimal; solution may be inaccurate.\u001b[0m\n",
      "\u001b[1m\u001b[31mWARNING: Problem status Suboptimal; solution may be inaccurate.\u001b[0m\n",
      "\u001b[1m\u001b[31mWARNING: Problem status Suboptimal; solution may be inaccurate.\u001b[0m\n",
      "\u001b[1m\u001b[31mWARNING: Problem status Suboptimal; solution may be inaccurate.\u001b[0m\n",
      "\u001b[1m\u001b[31mWARNING: Problem status Suboptimal; solution may be inaccurate.\u001b[0m\n",
      "\u001b[1m\u001b[31mWARNING: Problem status Suboptimal; solution may be inaccurate.\u001b[0m\n",
      "\u001b[1m\u001b[31mWARNING: Problem status Suboptimal; solution may be inaccurate.\u001b[0m\n",
      "\u001b[1m\u001b[31mWARNING: Problem status Suboptimal; solution may be inaccurate.\u001b[0m\n",
      "\u001b[1m\u001b[31mWARNING: Problem status Suboptimal; solution may be inaccurate.\u001b[0m\n",
      "\u001b[1m\u001b[31mWARNING: Problem status Suboptimal; solution may be inaccurate.\u001b[0m\n",
      "\u001b[1m\u001b[31mWARNING: Problem status Suboptimal; solution may be inaccurate.\u001b[0m\n",
      "\u001b[1m\u001b[31mWARNING: Problem status Suboptimal; solution may be inaccurate.\u001b[0m\n",
      "\u001b[1m\u001b[31mWARNING: Problem status Suboptimal; solution may be inaccurate.\u001b[0m\n",
      "\u001b[1m\u001b[31mWARNING: Problem status Suboptimal; solution may be inaccurate.\u001b[0m\n",
      "\u001b[1m\u001b[31mWARNING: Problem status Suboptimal; solution may be inaccurate.\u001b[0m\n",
      "\u001b[1m\u001b[31mWARNING: Problem status Suboptimal; solution may be inaccurate.\u001b[0m\n",
      "\u001b[1m\u001b[31mWARNING: Problem status Suboptimal; solution may be inaccurate.\u001b[0m\n",
      "\u001b[1m\u001b[31mWARNING: Problem status Suboptimal; solution may be inaccurate.\u001b[0m\n",
      "\u001b[1m\u001b[31mWARNING: Problem status Suboptimal; solution may be inaccurate.\u001b[0m\n",
      "\u001b[1m\u001b[31mWARNING: Problem status Suboptimal; solution may be inaccurate.\u001b[0m\n",
      "\u001b[1m\u001b[31mWARNING: Problem status Suboptimal; solution may be inaccurate.\u001b[0m\n",
      "\u001b[1m\u001b[31mWARNING: Problem status Suboptimal; solution may be inaccurate.\u001b[0m\n"
     ]
    },
    {
     "name": "stdout",
     "output_type": "stream",
     "text": [
      "--------------------------------------------------------------------\n",
      "\n",
      " Results for Async HBGFBS\n",
      "\n",
      "--------------------------------------------------------------------\n",
      "X is:\n",
      " [3.5083110505595982e-6 0.0009960810556508548 4.31478123807949e-6 3.58109015863306e-6 0.044012922300788127 0.0640347518275668 0.07560555961915227 0.07547391792844405 4.474643326979333e-6 0.1543283661269097 0.09633576435422508 3.0841505420653448e-6 0.24880419206096516 0.10461927490130041 4.3976753012486824e-6 0.13583032098051095] \n",
      "\n",
      "\n",
      " The optimal value is: 0.6744946620371209 \n",
      "\n",
      "\n",
      " Σ(x) is:\n",
      " 1.000064511807131 \n",
      "\n",
      "error is:\n",
      " 0.0645025921433057 \n",
      "\n",
      "\n",
      " total number of iters is:\n",
      " 22382\n"
     ]
    },
    {
     "name": "stderr",
     "output_type": "stream",
     "text": [
      "\u001b[1m\u001b[31mWARNING: Problem status Suboptimal; solution may be inaccurate.\u001b[0m\n"
     ]
    }
   ],
   "source": [
    "## Run a test\n",
    "\n",
    "# reset update times\n",
    "UpdateQueue = Dict{Int64,Float64}(zip(1:N+1, abs(rndUpdate)))\n",
    "\n",
    "# initialize parameters\n",
    "τ, ρ = ceil(collect(values(UpdateQueue))[indmax(collect(values(UpdateQueue)))] /\n",
    "            collect(values(UpdateQueue))[indmin(collect(values(UpdateQueue)))]), 2\n",
    "pmin = (1 / τ)\n",
    "println(\"The delay is: $τ \\n\")\n",
    "\n",
    "η = (1-1/ρ) * ((N+1)*sqrt(pmin)/8) * ( (ρ^(1/2)-1) / (ρ^((τ+1)/2)-1) )\n",
    "η = 0.5\n",
    "println(\"The stepsize is: $η \\n\")\n",
    "\n",
    "ω_l = (N^2-1) / N^3 # local weight\n",
    "ω_g = 1 / N^2 # global weight\n",
    "ω_l = 1 / (N+1) # local weight\n",
    "ω_g = 1 / (N+1) # global weight\n",
    "Ω = [ω_l * ones(N); ω_g]\n",
    "\n",
    "β = 0.7\n",
    "\n",
    "# execute AsyncGFBS\n",
    "optval = sum(OPT[\"optimal value central\"])\n",
    "\n",
    "x1, T1, NoUpdates1, res1, k1 = AsyncGFBS(0.3, UpdateQueue, Processor, optval, η, ω_l, Ω);\n",
    "\n",
    "println(\"--------------------------------------------------------------------\")\n",
    "println(\"\\n Results for Async GFBS\\n\")\n",
    "println(\"--------------------------------------------------------------------\")\n",
    "println(\"X is:\\n $(x1[:,end]') \\n\")\n",
    "println(\"\\n The optimal value is: $(funEval(x1[:,end])) \\n\")\n",
    "# println(\"T is:\\n $T \\n\")\n",
    "println(\"\\n Σ(x) is:\\n $(sum(x1[:,end])) \\n\")\n",
    "error = norm(x1[:,end]-OPT[\"optimizer central\"])\n",
    "println(\"error is:\\n $(error) \\n\")\n",
    "println(\"\\n total number of iters is:\\n $k1\")\n",
    "println(\"\\n\\n\")\n",
    "\n",
    "sleep(3)\n",
    "\n",
    "# reset update times\n",
    "UpdateQueue = Dict{Int64,Float64}(zip(1:N+1, abs(rndUpdate)))\n",
    "\n",
    "# execute AsyncHBGFBS\n",
    "η = 0.5\n",
    "x2, T2, NoUpdates2, res2, k2 = AsyncHBGFBS(0.3, UpdateQueue, Processor, optval, η, β, ω_l, Ω);\n",
    "\n",
    "println(\"--------------------------------------------------------------------\")\n",
    "println(\"\\n Results for Async HBGFBS\\n\")\n",
    "println(\"--------------------------------------------------------------------\")\n",
    "println(\"X is:\\n $(x2[:,end]') \\n\")\n",
    "println(\"\\n The optimal value is: $(funEval(x2[:,end])) \\n\")\n",
    "# println(\"T is:\\n $T \\n\")\n",
    "println(\"\\n Σ(x) is:\\n $(sum(x2[:,end])) \\n\")\n",
    "error = norm(x2[:,end]-OPT[\"optimizer central\"])\n",
    "println(\"error is:\\n $(error) \\n\")\n",
    "println(\"\\n total number of iters is:\\n $k2\")"
   ]
  },
  {
   "cell_type": "code",
   "execution_count": 9,
   "metadata": {
    "collapsed": false
   },
   "outputs": [
    {
     "name": "stdout",
     "output_type": "stream",
     "text": [
      "[Plots.jl] Initializing backend: pyplot\n"
     ]
    },
    {
     "name": "stderr",
     "output_type": "stream",
     "text": [
      "\u001b[1m\u001b[34mINFO: Recompiling stale cache file /Users/georgios/.julia/lib/v0.4/LaTeXStrings.ji for module LaTeXStrings.\n",
      "\u001b[0m\u001b[1m\u001b[34mINFO: Recompiling stale cache file /Users/georgios/.julia/lib/v0.4/PyPlot.ji for module PyPlot.\n",
      "\u001b[0m\u001b[1m\u001b[34mINFO: Recompiling stale cache file /Users/georgios/.julia/lib/v0.4/PyCall.ji for module PyCall.\n",
      "\u001b[0m\u001b[1m\u001b[34mINFO: Recompiling stale cache file /Users/georgios/.julia/lib/v0.4/Conda.ji for module Conda.\n",
      "\u001b[0m\u001b[1m\u001b[34mINFO: Recompiling stale cache file /Users/georgios/.julia/lib/v0.4/MacroTools.ji for module MacroTools.\n",
      "\u001b[0m"
     ]
    },
    {
     "data": {
      "text/html": [
       "<img src=\"data:image/png;base64,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\" />"
      ]
     },
     "execution_count": 9,
     "metadata": {},
     "output_type": "execute_result"
    }
   ],
   "source": [
    "# plot\n",
    "pyplot()\n",
    "y_vals = []\n",
    "if length(T1) <= length(T2)\n",
    "    t = T1\n",
    "else\n",
    "    t = T2\n",
    "end\n",
    "push!(y_vals, res1[1:size(t,1)])\n",
    "push!(y_vals, res2[1:size(t,1)])\n",
    "labels = []\n",
    "push!(labels,string(\"Async GFBS\"))\n",
    "push!(labels, string(\"Async Inertial GFBS\"))\n",
    "cols = []\n",
    "push!(cols, \"#1f77b4\", \"#d62728\")\n",
    "plot(t, y_vals, xaxis = (\"t\", font(10, \"Helvetica\")), \n",
    "                 label = labels', linecolor = cols', \n",
    "                 titlefont = font(12, \"Helvetica\"),\n",
    "                 legendfont = font(10, \"Helvetica\"),\n",
    "                 linewidth = 2)\n",
    "yaxis!(\"residual\")\n",
    "title!(\"Residual convergence\")\n",
    "\n",
    "# savefig(\"wiggly_comparison.pdf\")"
   ]
  },
  {
   "cell_type": "markdown",
   "metadata": {},
   "source": []
  }
 ],
 "metadata": {
  "kernelspec": {
   "display_name": "Julia 0.4.3",
   "language": "julia",
   "name": "julia-0.4"
  },
  "language_info": {
   "file_extension": ".jl",
   "mimetype": "application/julia",
   "name": "julia",
   "version": "0.4.3"
  }
 },
 "nbformat": 4,
 "nbformat_minor": 0
}
